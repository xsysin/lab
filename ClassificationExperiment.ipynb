{
 "cells": [
  {
   "cell_type": "code",
   "execution_count": 10,
   "metadata": {},
   "outputs": [
    {
     "data": {
      "text/plain": [
       "Text(0,0.5,'loss')"
      ]
     },
     "execution_count": 10,
     "metadata": {},
     "output_type": "execute_result"
    },
    {
     "data": {
      "image/png": "[encoded data removed]",
      "text/plain": [
       "<matplotlib.figure.Figure at 0xfa1b70>"
      ]
     },
     "metadata": {},
     "output_type": "display_data"
    }
   ],
   "source": [
    "%matplotlib inline\n",
    "from sklearn.datasets import load_svmlight_file\n",
    "from sklearn.model_selection import train_test_split\n",
    "import numpy as np\n",
    "import matplotlib.pyplot as plt\n",
    "X,y= load_svmlight_file(\"H:\\\\datasets\\\\australian_scale.txt\")\n",
    "X = X.toarray()\n",
    "row = X.shape[0]\n",
    "A = np.ones([row,])\n",
    "X = np.c_[X,A]\n",
    "X_train, X_test, y_train, y_test = train_test_split(X, y, test_size=0.33, random_state=42)\n",
    "train_test_split(y, shuffle=False)\n",
    "R =X_train.shape[0]\n",
    "namda = 0\n",
    "M = np.zeros(15,)\n",
    "learning_rate = 0.02\n",
    "G = 0\n",
    "T = 100\n",
    "L_train = np.zeros([T])\n",
    "L_validation = np.zeros([T])\n",
    "#取阈值\n",
    "value=0.2\n",
    "for n in range(T):\n",
    "    #梯度初始化\n",
    "    g = 0\n",
    "    for i in range(R):\n",
    "        #对训练集所有样本求梯度\n",
    "        if 1-y_train[i]*(M.T.dot(X_train[i])) >= 0:\n",
    "            g = g + M - X_train[i]*y_train[i]\n",
    "        else:\n",
    "            g = g + M\n",
    "    #取平均值\n",
    "    g = g/R\n",
    "    #更新模型参数\n",
    "    M = M - learning_rate*g\n",
    "    r = 0\n",
    "    #命中数\n",
    "    hit = 0\n",
    "    for i in range(R):\n",
    "        r = r + max(0,1-y_train[i]*M.T.dot(X_train[i]))\n",
    "        if (M.dot(X_train[i]) >= value and y_train[i] == 1) or (M.dot(X_train[i]) < value and y_train[i] == -1):\n",
    "            hit += 1\n",
    "    #训练集准确率\n",
    "    accuracy_train = hit/R\n",
    "    #计算训练集loss\n",
    "    L_train[n] = 0.5*M.T.dot(M) + 1/R*r\n",
    "    r = 0\n",
    "    #命中数\n",
    "    hit = 0\n",
    "    for i in range(row-R):\n",
    "        r = r + max(0,1-y_test[i]*M.T.dot(X_test[i]))\n",
    "        if (M.dot(X_test[i]) >= value and y_test[i] == 1) or (M.dot(X_test[i]) < value and y_test[i] == -1):\n",
    "            hit += 1\n",
    "    #测试集准确率\n",
    "    accuracy_test = hit/(row-R)\n",
    "    #计算验证集loss\n",
    "    L_validation[n] = 0.5*M.T.dot(M) + 1/(row-R)*r\n",
    "\n",
    "n = np.arange(T)\n",
    "plt.plot(n,L_train[n],label='loss_train')\n",
    "plt.plot(n,L_validation[n],label='loss_validation')\n",
    "plt.legend(loc='upper right')\n",
    "plt.xlabel('time')\n",
    "plt.ylabel('loss')\n"
   ]
  },
  {
   "cell_type": "code",
   "execution_count": null,
   "metadata": {
    "collapsed": true
   },
   "outputs": [],
   "source": []
  },
  {
   "cell_type": "code",
   "execution_count": null,
   "metadata": {
    "collapsed": true
   },
   "outputs": [],
   "source": []
  }
 ],
 "metadata": {
  "kernelspec": {
   "display_name": "Python 3",
   "language": "python",
   "name": "python3"
  },
  "language_info": {
   "codemirror_mode": {
    "name": "ipython",
    "version": 3
   },
   "file_extension": ".py",
   "mimetype": "text/x-python",
   "name": "python",
   "nbconvert_exporter": "python",
   "pygments_lexer": "ipython3",
   "version": "3.6.3"
  }
 },
 "nbformat": 4,
 "nbformat_minor": 2
}
