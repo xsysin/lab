{
 "cells": [
  {
   "cell_type": "code",
   "execution_count": 1,
   "metadata": {},
   "outputs": [
    {
     "data": {
      "text/plain": [
       "Text(0,0.5,'loss')"
      ]
     },
     "execution_count": 1,
     "metadata": {},
     "output_type": "execute_result"
    },
    {
     "data": {
      "image/png": "[encoded data removed]",
      "text/plain": [
       "<matplotlib.figure.Figure at 0x2ed7050>"
      ]
     },
     "metadata": {},
     "output_type": "display_data"
    }
   ],
   "source": [
    "%matplotlib inline\n",
    "from sklearn.datasets import load_svmlight_file\n",
    "from sklearn.model_selection import train_test_split\n",
    "import numpy as np\n",
    "import matplotlib.pyplot as plt\n",
    "\n",
    "#获取数据集\n",
    "def get_data():\n",
    "    data = load_svmlight_file(\"H:\\datasets\\housing_scale.txt\")\n",
    "    return data[0], data[1]\n",
    "\n",
    "#数据集预处理\n",
    "X, y = get_data()\n",
    "X = X.toarray()\n",
    "row = X.shape[0]\n",
    "A = np.ones([row,])\n",
    "X = np.c_[X,A]\n",
    "#切割数据集\n",
    "X_train, X_test, y_train, y_test = train_test_split(X, y, test_size=0.33, random_state=42)\n",
    "train_test_split(y, shuffle=False)\n",
    "#初始化\n",
    "R =X_train.shape[0]\n",
    "namda = 0\n",
    "M = np.zeros(14,)\n",
    "learning_rate = 0.02\n",
    "G = 0\n",
    "S = 100\n",
    "L_train = np.zeros([S])\n",
    "L_validation = np.zeros([S])\n",
    "\n",
    "#训练模型\n",
    "for a in range(S):\n",
    "    for i in range(row):\n",
    "        G = G + namda*M + (np.dot(X[i].T,X[i])*M-np.dot(X[i].T,y[i]))\n",
    "    G = G/row\n",
    "    M = M - learning_rate*G\n",
    "    L_train[a] = 0.5*np.dot(M.T,M)+0.5*np.dot((y_train-np.dot(X_train,M)).T,y_train-np.dot(X_train,M))\n",
    "    L_validation[a] = 0.5*np.dot(M.T,M)+0.5*np.dot((y_test-np.dot(X_test,M)).T,y_test-np.dot(X_test,M))\n",
    "n = np.arange(S)\n",
    "\n",
    "#制图\n",
    "plt.plot(n,L_train[n],label='loss_train')\n",
    "plt.plot(n,L_validation[n],label='loss_validation')\n",
    "plt.legend(loc='upper right')\n",
    "plt.xlabel('time')\n",
    "plt.ylabel('loss')"
   ]
  },
  {
   "cell_type": "code",
   "execution_count": null,
   "metadata": {
    "collapsed": true
   },
   "outputs": [],
   "source": []
  }
 ],
 "metadata": {
  "kernelspec": {
   "display_name": "Python 3",
   "language": "python",
   "name": "python3"
  },
  "language_info": {
   "codemirror_mode": {
    "name": "ipython",
    "version": 3
   },
   "file_extension": ".py",
   "mimetype": "text/x-python",
   "name": "python",
   "nbconvert_exporter": "python",
   "pygments_lexer": "ipython3",
   "version": "3.6.3"
  }
 },
 "nbformat": 4,
 "nbformat_minor": 2
}
